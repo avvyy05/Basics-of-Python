{
  "nbformat": 4,
  "nbformat_minor": 0,
  "metadata": {
    "colab": {
      "provenance": [],
      "authorship_tag": "ABX9TyMSd3USFpk0bKQFJcYy82sq",
      "include_colab_link": true
    },
    "kernelspec": {
      "name": "python3",
      "display_name": "Python 3"
    },
    "language_info": {
      "name": "python"
    }
  },
  "cells": [
    {
      "cell_type": "markdown",
      "metadata": {
        "id": "view-in-github",
        "colab_type": "text"
      },
      "source": [
        "<a href=\"https://colab.research.google.com/github/avvyy05/avvyy05/blob/main/Avani_lec_github.ipynb\" target=\"_parent\"><img src=\"https://colab.research.google.com/assets/colab-badge.svg\" alt=\"Open In Colab\"/></a>"
      ]
    },
    {
      "cell_type": "code",
      "execution_count": null,
      "metadata": {
        "colab": {
          "base_uri": "https://localhost:8080/"
        },
        "id": "kEbbQFLQtH_L",
        "outputId": "81737dc2-03ab-4239-d0a3-0664ab75dbfd"
      },
      "outputs": [
        {
          "output_type": "stream",
          "name": "stdout",
          "text": [
            "10  +  220  -->  230\n"
          ]
        }
      ],
      "source": [
        "a = 10\n",
        "b = 220\n",
        "c = a + b       # Add two numbers\n",
        "print (a, \" + \", b, \" --> \", c)"
      ]
    },
    {
      "cell_type": "code",
      "source": [
        "a = \"Bhagat\"\n",
        "b = \" Singh\"\n",
        "c = a + b\t\t# Concatinate two strings\n",
        "print (a, \" + \", b, \" --> \", c)"
      ],
      "metadata": {
        "colab": {
          "base_uri": "https://localhost:8080/"
        },
        "id": "u7QOXrbdtoYf",
        "outputId": "be165e40-f7e7-4542-a790-8a35fd034133"
      },
      "execution_count": null,
      "outputs": [
        {
          "output_type": "stream",
          "name": "stdout",
          "text": [
            "Bhagat  +   Singh  -->  Bhagat Singh\n"
          ]
        }
      ]
    },
    {
      "cell_type": "code",
      "source": [
        "a = input(\"Enter First String: \")\n",
        "b = input(\"Enter Second String: \")\n",
        "c = a + b\t\t# concatinate two strings\n",
        "print  (a, \" + \", b, \"      --> \", c)\n",
        "\n",
        "# Run the program with (1) Two strings and (2) Two numbers\n"
      ],
      "metadata": {
        "id": "o-QB7F4jt77O"
      },
      "execution_count": null,
      "outputs": []
    },
    {
      "cell_type": "code",
      "source": [
        "a=10\n",
        "b=20\n",
        "c=30\n",
        "d=a+b+c\n",
        "print(\"Sum of the three numbers: \",d)"
      ],
      "metadata": {
        "colab": {
          "base_uri": "https://localhost:8080/"
        },
        "id": "suK5nPUbuUgQ",
        "outputId": "5ca0fb08-85a5-49d8-8bf0-7174264899c1"
      },
      "execution_count": null,
      "outputs": [
        {
          "output_type": "stream",
          "name": "stdout",
          "text": [
            "Sum of the three numbers:  60\n"
          ]
        }
      ]
    },
    {
      "cell_type": "code",
      "source": [
        "a= \"I \"\n",
        "b= \"am \"\n",
        "c= \"happy.\"\n",
        "d= a+b+c\n",
        "print(\"The sentence is: \",d)"
      ],
      "metadata": {
        "colab": {
          "base_uri": "https://localhost:8080/"
        },
        "id": "4t1oYLTduk-u",
        "outputId": "9aeb181a-495a-4274-8321-78457884cc8b"
      },
      "execution_count": null,
      "outputs": [
        {
          "output_type": "stream",
          "name": "stdout",
          "text": [
            "The sentence is:  I am happy.\n"
          ]
        }
      ]
    },
    {
      "cell_type": "code",
      "source": [
        "s=0\n",
        "for i in range(1,11):\n",
        "  s=s+i\n",
        "print(\"sum:\",s)"
      ],
      "metadata": {
        "colab": {
          "base_uri": "https://localhost:8080/"
        },
        "id": "uPotJ5ifxltF",
        "outputId": "be7c9143-bd28-43c8-d8af-b3717c8829de"
      },
      "execution_count": null,
      "outputs": [
        {
          "output_type": "stream",
          "name": "stdout",
          "text": [
            "sum: 55\n"
          ]
        }
      ]
    },
    {
      "cell_type": "code",
      "source": [
        "import math as m\n",
        "print(m.sqrt(25))"
      ],
      "metadata": {
        "colab": {
          "base_uri": "https://localhost:8080/"
        },
        "id": "9IkYruSLtiys",
        "outputId": "a2ac8a77-4f77-4644-f825-58b497505069"
      },
      "execution_count": null,
      "outputs": [
        {
          "output_type": "stream",
          "name": "stdout",
          "text": [
            "5.0\n"
          ]
        }
      ]
    },
    {
      "cell_type": "code",
      "source": [
        "def add_odd_numbers(n):\n",
        "    total = 0\n",
        "    for i in range(1, n+1, 2):\n",
        "        total += i\n",
        "    return total\n",
        "\n",
        "def main():\n",
        "    n = int(input(\"Enter a number: \"))\n",
        "    result = add_odd_numbers(n)\n",
        "    print(\"Sum of odd numbers from 1 to\", n, \"is:\", result)\n",
        "\n",
        "if __name__ == \"__main__\":\n",
        "    main()\n"
      ],
      "metadata": {
        "id": "pJ2D96cquCu2"
      },
      "execution_count": null,
      "outputs": []
    },
    {
      "cell_type": "code",
      "source": [
        "import math as m\n",
        "n=10\n",
        "sum(range(1,n+1,2))"
      ],
      "metadata": {
        "colab": {
          "base_uri": "https://localhost:8080/"
        },
        "id": "bZ05u_jru2pf",
        "outputId": "d510d10d-6d9d-4ab1-eb43-6b3527fb1349"
      },
      "execution_count": null,
      "outputs": [
        {
          "output_type": "execute_result",
          "data": {
            "text/plain": [
              "25"
            ]
          },
          "metadata": {},
          "execution_count": 2
        }
      ]
    },
    {
      "cell_type": "code",
      "source": [
        "import math as m\n",
        "n=int(input(\"enter the number:\"))\n",
        "sum(range(1,n+1,2))"
      ],
      "metadata": {
        "colab": {
          "base_uri": "https://localhost:8080/"
        },
        "id": "m1h2bDvjvLHX",
        "outputId": "8a32c568-5776-4bce-fc65-86931ed1d514"
      },
      "execution_count": null,
      "outputs": [
        {
          "name": "stdout",
          "output_type": "stream",
          "text": [
            "enter the number:20\n"
          ]
        },
        {
          "output_type": "execute_result",
          "data": {
            "text/plain": [
              "100"
            ]
          },
          "metadata": {},
          "execution_count": 4
        }
      ]
    },
    {
      "cell_type": "code",
      "source": [
        "#WAP using function that add all prime numbers from 1 to n, n given by the user.\n",
        "\n",
        "def is_prime(num):\n",
        "    if num <= 1:\n",
        "        return False\n",
        "    for i in range(2, num):\n",
        "        if num % i == 0:\n",
        "            return False\n",
        "    return True\n",
        "\n",
        "def add_prime_numbers(n):\n",
        "    total = 0\n",
        "    for i in range(2, n + 1):\n",
        "        if is_prime(i):\n",
        "            total += i\n",
        "    return total\n",
        "\n",
        "n = int(input(\"Enter a number: \"))\n",
        "print(\"Sum of prime numbers from 1 to\", n, \"is:\", add_prime_numbers(n))\n",
        "\n"
      ],
      "metadata": {
        "colab": {
          "base_uri": "https://localhost:8080/"
        },
        "id": "yVNRoI73vrej",
        "outputId": "6f05e31a-b447-45a9-ed42-36f398ecfa4e"
      },
      "execution_count": null,
      "outputs": [
        {
          "output_type": "stream",
          "name": "stdout",
          "text": [
            "Enter a number: 10\n",
            "Sum of prime numbers from 1 to 10 is: 17\n"
          ]
        }
      ]
    },
    {
      "cell_type": "code",
      "source": [
        "name=input(\"Enter your name: \")\n",
        "age=int(input(\"Enter your age : \"))\n",
        "price=float(input(\"Enter the book price: \"))\n",
        "s=\"\\nYour name is %s, age is %d and book price is %f\" %(name.upper(),age,price)\n",
        "print (s)"
      ],
      "metadata": {
        "colab": {
          "base_uri": "https://localhost:8080/"
        },
        "id": "GHkt-yvCy2V8",
        "outputId": "d4e65c0a-d654-4eac-bc6c-64524e828e68"
      },
      "execution_count": null,
      "outputs": [
        {
          "output_type": "stream",
          "name": "stdout",
          "text": [
            "Enter your name: avani\n",
            "Enter your age : 19\n",
            "Enter the book price: 403.3752\n",
            "\n",
            "Your name is AVANI, age is 19 and book price is 403.375200\n"
          ]
        }
      ]
    },
    {
      "cell_type": "code",
      "source": [
        "para_str = \"\"\"This is a long string that is made up of several lines and non-printable characters such as TAB ( \\t ) and they will show up that way when displayed. NEWLINEs within the string, whether explicitly given like this within the brackets [ \\n ], or just a NEWLINE within the variable assignment will also show up. \"\"\"\n",
        "print (para_str)"
      ],
      "metadata": {
        "colab": {
          "base_uri": "https://localhost:8080/"
        },
        "id": "fFZ8lRt1zHCi",
        "outputId": "a7a77aef-0075-426a-aa23-c5acaba9f502"
      },
      "execution_count": null,
      "outputs": [
        {
          "output_type": "stream",
          "name": "stdout",
          "text": [
            "This is a long string that is made up of several lines and non-printable characters such as TAB ( \t ) and they will show up that way when displayed. NEWLINEs within the string, whether explicitly given like this within the brackets [ \n",
            " ], or just a NEWLINE within the variable assignment will also show up. \n"
          ]
        }
      ]
    },
    {
      "cell_type": "code",
      "source": [
        "para_str = \"\"This is a long string that is made up of several lines and non-printable characters such as TAB ( \\t ) and they will show up that way when displayed. NEWLINEs within the string, whether explicitly given like this within the brackets [ \\n ], or just a NEWLINE within the variable assignment will also show up.\"\"\n",
        "print (para_str)"
      ],
      "metadata": {
        "colab": {
          "base_uri": "https://localhost:8080/",
          "height": 158
        },
        "id": "NSByT6y_zZiX",
        "outputId": "ea88faa4-9278-4b1a-b92e-502ce0090777"
      },
      "execution_count": null,
      "outputs": [
        {
          "output_type": "error",
          "ename": "SyntaxError",
          "evalue": "invalid syntax (<ipython-input-9-5e5d48e7eb05>, line 1)",
          "traceback": [
            "\u001b[0;36m  File \u001b[0;32m\"<ipython-input-9-5e5d48e7eb05>\"\u001b[0;36m, line \u001b[0;32m1\u001b[0m\n\u001b[0;31m    para_str = \"\"This is a long string that is made up of several lines and non-printable characters such as TAB ( \\t ) and they will show up that way when displayed. NEWLINEs within the string, whether explicitly given like this within the brackets [ \\n ], or just a NEWLINE within the variable assignment will also show up. \"\"\u001b[0m\n\u001b[0m                 ^\u001b[0m\n\u001b[0;31mSyntaxError\u001b[0m\u001b[0;31m:\u001b[0m invalid syntax\n"
          ]
        }
      ]
    },
    {
      "cell_type": "code",
      "source": [
        "para_str = \"This is a long string that is made up of several lines and non-printable characters such as TAB ( \\t ) and they will show up that way when displayed. NEWLINEs within the string, whether explicitly given like this within the brackets [ \\n ], or just a NEWLINE within the variable assignment will also show up. \"\n",
        "print (para_str)"
      ],
      "metadata": {
        "colab": {
          "base_uri": "https://localhost:8080/"
        },
        "id": "CkC4K4Jkz0Kg",
        "outputId": "055c5d5a-7ddd-47bb-e779-28ea482bcdf1"
      },
      "execution_count": null,
      "outputs": [
        {
          "output_type": "stream",
          "name": "stdout",
          "text": [
            "This is a long string that is made up of several lines and non-printable characters such as TAB ( \t ) and they will show up that way when displayed. NEWLINEs within the string, whether explicitly given like this within the brackets [ \n",
            " ], or just a NEWLINE within the variable assignment will also show up. \n"
          ]
        }
      ]
    },
    {
      "cell_type": "code",
      "source": [
        "var =\" Indian Army \"\n",
        "print(\"String --> \", var)\n",
        "print(\"Length --> \", len(var))\n",
        "print(\"var strip --> \", var.strip())\n",
        "print(\"Length of var after strip --> \", len(var.strip()) )"
      ],
      "metadata": {
        "colab": {
          "base_uri": "https://localhost:8080/"
        },
        "id": "n-RXCyP_0C7f",
        "outputId": "eda581da-2b48-49b7-ef30-0cc6b9d373ff"
      },
      "execution_count": null,
      "outputs": [
        {
          "output_type": "stream",
          "name": "stdout",
          "text": [
            "String -->   Indian Army \n",
            "Length -->  13\n",
            "var strip -->  Indian Army\n",
            "Length of var after strip -->  11\n"
          ]
        }
      ]
    },
    {
      "cell_type": "code",
      "source": [
        "var =\" Indian, Army \"\n",
        "print(\"String --> \", var)\n",
        "print(\"Length --> \", len(var))\n",
        "print(\"var split --> \", var.split())\n",
        "print(\"var split --> \", var.split(' '))\n",
        "print(\"var split --> \", var.split(',')) # Strip + Split print(\"var split --> \", var.strip().split(','))"
      ],
      "metadata": {
        "colab": {
          "base_uri": "https://localhost:8080/"
        },
        "id": "gmG6oawz0haR",
        "outputId": "4ea69f3a-9f28-4324-c2aa-10f9b0002265"
      },
      "execution_count": null,
      "outputs": [
        {
          "output_type": "stream",
          "name": "stdout",
          "text": [
            "String -->   Indian, Army \n",
            "Length -->  14\n",
            "var split -->  ['Indian,', 'Army']\n",
            "var split -->  ['', 'Indian,', 'Army', '']\n",
            "var split -->  [' Indian', ' Army ']\n"
          ]
        }
      ]
    },
    {
      "cell_type": "code",
      "source": [
        "var=\" Indian Army \"\n",
        "print (\"String --> \", var)\n",
        "print (\"Count of ' ' --> \", var.count(' '))\n",
        "print (\"Count of 'a' --> \", var.count('a'))\n",
        "print (\"Count of 'n' --> \", var.count('an'))"
      ],
      "metadata": {
        "colab": {
          "base_uri": "https://localhost:8080/"
        },
        "id": "blufLd1j1Ygh",
        "outputId": "6c154b2a-7c8b-44f7-cda1-661b8e6c6568"
      },
      "execution_count": null,
      "outputs": [
        {
          "output_type": "stream",
          "name": "stdout",
          "text": [
            "String -->   Indian Army \n",
            "Count of ' ' -->  3\n",
            "Count of 'a' -->  1\n",
            "Count of 'n' -->  1\n"
          ]
        }
      ]
    },
    {
      "cell_type": "code",
      "source": [
        "var=\"Indian Army\"\n",
        "print (\"String --> \", var)\n",
        "print (\"var[::1] --> \", var[::1])\n",
        "print (\"var[::2] --> \", var[::2])\n",
        "print (\"var[::-1] --> \", var[::-1])\n",
        "print (\"var[::-2] --> \", var[::-2])\n",
        "var=var[::-1]\n",
        "print (\"var after reverse --> \", var)"
      ],
      "metadata": {
        "colab": {
          "base_uri": "https://localhost:8080/"
        },
        "id": "6O2dV2201jyV",
        "outputId": "1bba71ff-ede6-4523-f510-b21f21f92859"
      },
      "execution_count": null,
      "outputs": [
        {
          "output_type": "stream",
          "name": "stdout",
          "text": [
            "String -->  Indian Army\n",
            "var[::1] -->  Indian Army\n",
            "var[::2] -->  Ida ry\n",
            "var[::-1] -->  ymrA naidnI\n",
            "var[::-2] -->  yr adI\n",
            "var after reverse -->  ymrA naidnI\n"
          ]
        }
      ]
    },
    {
      "cell_type": "code",
      "source": [
        "s1=\"Indian Army\"\n",
        "s2=\"malayalam\"\n",
        "s3=\"madam\"\n",
        "s4=\"teacher\"\n",
        "print (\"s1 --> \", s1==s1[::-1])\n",
        "print (\"s2 --> \", s2==s2[::-1])\n",
        "print (\"s3 --> \", s3==s3[::-1])\n",
        "print (\"s4 --> \", s4==s4[::-1])"
      ],
      "metadata": {
        "colab": {
          "base_uri": "https://localhost:8080/"
        },
        "id": "69QCbgl12Ilb",
        "outputId": "bca410c5-a97b-4185-8d8e-2163b0b088fc"
      },
      "execution_count": null,
      "outputs": [
        {
          "output_type": "stream",
          "name": "stdout",
          "text": [
            "s1 -->  False\n",
            "s2 -->  True\n",
            "s3 -->  True\n",
            "s4 -->  False\n"
          ]
        }
      ]
    },
    {
      "cell_type": "code",
      "source": [
        "import random as r\n",
        "#print(r.random())\n",
        "#print(r.randint(142200001,142200010))\n",
        "#print(round(r.random(),4))\n",
        "print(round(10*r.random()))\n",
        "print(142200000+round(10*r.random()))\n",
        "print(142200000+round(10*r.random()))\n",
        "print(142200000+round(10*r.random()))\n",
        "print(142200000+round(10*r.random()))\n",
        "print(142200000+round(10*r.random()))"
      ],
      "metadata": {
        "colab": {
          "base_uri": "https://localhost:8080/"
        },
        "id": "U8UKTdxyYZYB",
        "outputId": "42257f1e-72ff-4462-e7ad-cc2d40ed1b1d"
      },
      "execution_count": null,
      "outputs": [
        {
          "output_type": "stream",
          "name": "stdout",
          "text": [
            "6\n",
            "142200004\n",
            "142200001\n",
            "142200009\n",
            "142200000\n",
            "142200002\n"
          ]
        }
      ]
    },
    {
      "cell_type": "code",
      "source": [
        "\n",
        "import random as r\n",
        "print (r.randint(1, 100))\n",
        "print (r.randint(1, 100))\n",
        "print (r.randint(-10, 10))\n",
        "print (r.randint(-10, 10))"
      ],
      "metadata": {
        "colab": {
          "base_uri": "https://localhost:8080/"
        },
        "id": "I2jeuvmYcJkU",
        "outputId": "97de46e2-f5d5-4b0d-a8cf-81b1ef258073"
      },
      "execution_count": null,
      "outputs": [
        {
          "output_type": "stream",
          "name": "stdout",
          "text": [
            "55\n",
            "8\n",
            "2\n",
            "-5\n"
          ]
        }
      ]
    },
    {
      "cell_type": "code",
      "source": [
        "import random as r\n",
        "print (r.uniform(1, 100))\n",
        "print (r.uniform(1, 100))\n",
        "print (r.uniform (-10, 10))\n",
        "print (r.uniform (-10, 10))\n",
        "print (round(r.uniform (-10, 10),2))"
      ],
      "metadata": {
        "colab": {
          "base_uri": "https://localhost:8080/"
        },
        "id": "DqOTiDWqcPKT",
        "outputId": "36f8b12e-a2dd-4023-ac85-cf8d6c0ccfdc"
      },
      "execution_count": null,
      "outputs": [
        {
          "output_type": "stream",
          "name": "stdout",
          "text": [
            "49.17597590647127\n",
            "65.57919519257013\n",
            "-1.6121129928934579\n",
            "-7.011525885079575\n",
            "-4.4\n"
          ]
        }
      ]
    },
    {
      "cell_type": "code",
      "source": [
        "import random as r\n",
        "A=[1, 2, 3, 4, 5, 6, 7, 8, 9, 10]\n",
        "print (r.sample(A, 4))\n",
        "print (r.sample(A, 2))\n",
        "print (r.sample(range(0,100), 2))\n",
        "print (r.sample(range(-100,100), 5))"
      ],
      "metadata": {
        "colab": {
          "base_uri": "https://localhost:8080/"
        },
        "id": "VyO6WxY7cvdS",
        "outputId": "052e130b-3080-4b68-fc2c-21760904d95b"
      },
      "execution_count": null,
      "outputs": [
        {
          "output_type": "stream",
          "name": "stdout",
          "text": [
            "[5, 7, 10, 2]\n",
            "[8, 1]\n",
            "[66, 49]\n",
            "[36, 88, -61, 63, 84]\n"
          ]
        }
      ]
    },
    {
      "cell_type": "code",
      "source": [
        "import string as s\n",
        "import random as r\n",
        "print (\"String --> \",s.ascii_letters)\n",
        "\n",
        "passwd=r.sample(s.ascii_letters, 6)\n",
        "print (\"Selected Char --> \",passwd)\n",
        "\n",
        "passwd1=\"\".join(passwd)\n",
        "print (\"passwd1 --> \",passwd1)\n",
        "\n",
        "passwd2=\"+\".join(passwd)\n",
        "print (\"passwd2 --> \",passwd2)\n",
        "\n",
        "passwd3=\"*\".join(passwd)\n",
        "print (\"passwd3 --> \",passwd3)\n",
        "\n",
        "passwd4=\"--\".join(passwd)\n",
        "print (\"passwd3 --> \",passwd4)"
      ],
      "metadata": {
        "colab": {
          "base_uri": "https://localhost:8080/"
        },
        "id": "jOYQ6nYWdBmy",
        "outputId": "23a00fef-2ba2-4aa4-a62b-851bf0047f21"
      },
      "execution_count": null,
      "outputs": [
        {
          "output_type": "stream",
          "name": "stdout",
          "text": [
            "String -->  abcdefghijklmnopqrstuvwxyzABCDEFGHIJKLMNOPQRSTUVWXYZ\n",
            "Selected Char -->  ['Z', 'a', 'q', 'U', 'g', 'x']\n",
            "passwd1 -->  ZaqUgx\n",
            "passwd2 -->  Z+a+q+U+g+x\n",
            "passwd3 -->  Z*a*q*U*g*x\n",
            "passwd3 -->  Z--a--q--U--g--x\n"
          ]
        }
      ]
    },
    {
      "cell_type": "code",
      "source": [
        "import string as s\n",
        "import random as r\n",
        "print (\"Digits --> \",s.digits)\n",
        "\n",
        "otp=r.sample(s.digits, 5)\n",
        "print (\"Selected num1 --> \",otp)\n",
        "\n",
        "otp=\"\".join(otp)\n",
        "print (\"otp1 --> \",otp)\n",
        "\n",
        "otp=r.sample(s.digits, 5)\n",
        "print (\"Selected num2 --> \",otp)\n",
        "\n",
        "otp=\"\".join(otp)\n",
        "print (\"otp2 --> \",otp)\n",
        "\n",
        "otp=r.sample(s.digits, 5)\n",
        "print (\"Selected num2 --> \",otp)\n",
        "\n",
        "otp=\"\".join(otp)\n",
        "print (\"otp3 --> \",otp)"
      ],
      "metadata": {
        "colab": {
          "base_uri": "https://localhost:8080/"
        },
        "id": "J1wOfmm7fE3y",
        "outputId": "f25d56f5-30c3-4629-ce92-4f5a4701bda7"
      },
      "execution_count": null,
      "outputs": [
        {
          "output_type": "stream",
          "name": "stdout",
          "text": [
            "Digits -->  0123456789\n",
            "Selected num1 -->  ['7', '5', '9', '8', '0']\n",
            "otp1 -->  75980\n",
            "Selected num2 -->  ['1', '4', '9', '2', '7']\n",
            "otp2 -->  14927\n",
            "Selected num2 -->  ['1', '9', '2', '0', '7']\n",
            "otp3 -->  19207\n"
          ]
        }
      ]
    },
    {
      "cell_type": "code",
      "source": [
        "import string as s\n",
        "import random as r\n",
        "print (\"String + Digits --> \",s.ascii_letters + s.digits)\n",
        "\n",
        "mixPasswd=r.sample(s.ascii_letters + s.digits, 5)\n",
        "print (\"\\nSelected Str1 --> \",mixPasswd)\n",
        "\n",
        "mixPasswd=\"\".join(mixPasswd)\n",
        "print (\"mixPasswd1 --> \",mixPasswd)\n",
        "\n",
        "mixPasswd=r.sample(s.ascii_letters + s.digits, 6)\n",
        "print (\"\\nSelected Str2 --> \",mixPasswd)\n",
        "\n",
        "mixPasswd=\"\".join(mixPasswd)\n",
        "print (\"mixPasswd2 --> \",mixPasswd)\n",
        "\n",
        "splChar=\"#@!~%^&*()_+=-[]{}|\"\n",
        "mixPasswd=r.sample(splChar + s.ascii_letters + s.digits, 8)\n",
        "print (\"\\nSelected Str3 --> \",mixPasswd)\n",
        "mixPasswd=\"\".join(mixPasswd)\n",
        "print (\"mixPasswd3 --> \",mixPasswd)"
      ],
      "metadata": {
        "colab": {
          "base_uri": "https://localhost:8080/"
        },
        "id": "pvcY3zPtfdXK",
        "outputId": "ce678a0c-37ca-41b0-cee6-43fccf8826b3"
      },
      "execution_count": null,
      "outputs": [
        {
          "output_type": "stream",
          "name": "stdout",
          "text": [
            "String + Digits -->  abcdefghijklmnopqrstuvwxyzABCDEFGHIJKLMNOPQRSTUVWXYZ0123456789\n",
            "\n",
            "Selected Str1 -->  ['z', '4', 'L', '6', '1']\n",
            "mixPasswd1 -->  z4L61\n",
            "\n",
            "Selected Str2 -->  ['G', '7', 'F', 'O', 'K', 'n']\n",
            "mixPasswd2 -->  G7FOKn\n",
            "\n",
            "Selected Str3 -->  ['+', '~', 'D', 'l', 'C', 'M', 'L', 'x']\n",
            "mixPasswd3 -->  +~DlCMLx\n"
          ]
        }
      ]
    },
    {
      "cell_type": "code",
      "source": [
        "L1 = [3, 6, 9]\n",
        "L2 = [12, 5, 3, 2]\n",
        "L3 = L1 + L2\n",
        "print (\"L1 --> \",L1)\n",
        "print (\"L2 --> \",L2)\n",
        "print (\"L3 --> \",L3)\n",
        "\n",
        "\n",
        "print (\"L3[::-1] --> \",L3[::-1])\n",
        "\n"
      ],
      "metadata": {
        "colab": {
          "base_uri": "https://localhost:8080/"
        },
        "id": "apMQNKNbZqhj",
        "outputId": "4116fc50-2dd8-4136-8c73-485dac2ddf34"
      },
      "execution_count": null,
      "outputs": [
        {
          "output_type": "stream",
          "name": "stdout",
          "text": [
            "L1 -->  [3, 6, 9]\n",
            "L2 -->  [12, 5, 3, 2]\n",
            "L3 -->  [3, 6, 9, 12, 5, 3, 2]\n",
            "L3[::-1] -->  [2, 3, 5, 12, 9, 6, 3]\n"
          ]
        }
      ]
    },
    {
      "cell_type": "code",
      "source": [
        "CGPA={1:8.9, 2:5.6, 4:6.7, 7:9.1, 8:5.3}\n",
        "for k in CGPA:\n",
        "\tprint (\"CGPA of \", k, \" --> \", CGPA[k])"
      ],
      "metadata": {
        "colab": {
          "base_uri": "https://localhost:8080/"
        },
        "id": "_ENHdjfEaavm",
        "outputId": "979aa09b-d2ac-42df-af8c-8a254c398573"
      },
      "execution_count": null,
      "outputs": [
        {
          "output_type": "stream",
          "name": "stdout",
          "text": [
            "CGPA of  1  -->  8.9\n",
            "CGPA of  2  -->  5.6\n",
            "CGPA of  4  -->  6.7\n",
            "CGPA of  7  -->  9.1\n",
            "CGPA of  8  -->  5.3\n"
          ]
        }
      ]
    },
    {
      "cell_type": "code",
      "source": [
        "# Method 1\n",
        "T = (\"Pratham\", 'Sharma', 3.14, 3)\n",
        "\n",
        "print (\"T               -->\", T)\n",
        "print (\"Num of elements -->\", len(T))\n",
        "print (\"Type of Object  -->\", type(T))\n",
        "\n"
      ],
      "metadata": {
        "colab": {
          "base_uri": "https://localhost:8080/"
        },
        "id": "4TVEzFjaShWq",
        "outputId": "60e2d32c-2194-4018-d5aa-08ed987f4f88"
      },
      "execution_count": null,
      "outputs": [
        {
          "output_type": "stream",
          "name": "stdout",
          "text": [
            "T               --> ('Pratham', 'Sharma', 3.14, 3)\n",
            "Num of elements --> 4\n",
            "Type of Object  --> <class 'tuple'>\n"
          ]
        }
      ]
    },
    {
      "cell_type": "code",
      "source": [
        "# Method 2\n",
        "T = tuple([\"Pratham\", 'Sharma', 3.14, 3])   # Convert list to tuple\n",
        "#T = tuple((\"Pratham\", 'Sharma', 3.14, 3))  # Also Works\n",
        "\n",
        "print (\"T               -->\", T)\n",
        "print (\"Num of elements -->\", len(T))\n",
        "print (\"Type of Object  -->\", type(T))"
      ],
      "metadata": {
        "colab": {
          "base_uri": "https://localhost:8080/"
        },
        "id": "vVZLaAYrS7J5",
        "outputId": "bed9f2c3-b50a-41e6-ad9f-1116deccc1aa"
      },
      "execution_count": null,
      "outputs": [
        {
          "output_type": "stream",
          "name": "stdout",
          "text": [
            "T               --> ('Pratham', 'Sharma', 3.14, 3)\n",
            "Num of elements --> 4\n",
            "Type of Object  --> <class 'tuple'>\n"
          ]
        }
      ]
    },
    {
      "cell_type": "code",
      "source": [
        "T = (\"Pratham\", 'Sharma', 3.14, 3)\n",
        "print (\"T -->\", T)\n",
        "\n",
        "i = 0\n",
        "while i < len(T):\n",
        "    print (T[i])\n",
        "    i += 1\n"
      ],
      "metadata": {
        "colab": {
          "base_uri": "https://localhost:8080/"
        },
        "id": "z4jtOIGcTKIq",
        "outputId": "e06981be-9175-40fc-f2db-3465c446d8da"
      },
      "execution_count": null,
      "outputs": [
        {
          "output_type": "stream",
          "name": "stdout",
          "text": [
            "T --> ('Pratham', 'Sharma', 3.14, 3)\n",
            "Pratham\n",
            "Sharma\n",
            "3.14\n",
            "3\n"
          ]
        }
      ]
    },
    {
      "cell_type": "code",
      "source": [
        "T = (\"Pratham\", 'Sharma', 3.14, 3)\n",
        "print (\"T -->\", T)\n",
        "\n",
        "for i in range(0, len(T)):\n",
        "    print (T[i])\n"
      ],
      "metadata": {
        "colab": {
          "base_uri": "https://localhost:8080/"
        },
        "id": "0WELXl1XUHnz",
        "outputId": "c8843693-9927-436b-894f-44c23e68a3ea"
      },
      "execution_count": null,
      "outputs": [
        {
          "output_type": "stream",
          "name": "stdout",
          "text": [
            "T --> ('Pratham', 'Sharma', 3.14, 3)\n",
            "Pratham\n",
            "Sharma\n",
            "3.14\n",
            "3\n"
          ]
        }
      ]
    },
    {
      "cell_type": "code",
      "source": [
        "T = (\"Pratham\", 'Sharma', 3.14, 3)\n",
        "print (\"T -->\", T)\n",
        "\n",
        "for s in T:\n",
        "    print (s)"
      ],
      "metadata": {
        "colab": {
          "base_uri": "https://localhost:8080/"
        },
        "id": "dUbT35VKUR-x",
        "outputId": "66a29e57-9e19-4c14-946b-9f3d575a3d5f"
      },
      "execution_count": null,
      "outputs": [
        {
          "output_type": "stream",
          "name": "stdout",
          "text": [
            "T --> ('Pratham', 'Sharma', 3.14, 3)\n",
            "Pratham\n",
            "Sharma\n",
            "3.14\n",
            "3\n"
          ]
        }
      ]
    },
    {
      "cell_type": "code",
      "source": [
        "# Example 1:\n",
        "T = (3, 6, 9, 12, 5, 3, 2)\n",
        "print (\"T     -->\", T)\n",
        "\n",
        "print (\"T[1]  -->\", T[1])\n",
        "print (\"T[2]  -->\", T[2])\n",
        "print (\"T[-1] -->\", T[-1])\n",
        "print (\"T[-2] -->\", T[-2])"
      ],
      "metadata": {
        "colab": {
          "base_uri": "https://localhost:8080/"
        },
        "id": "8GLVytDNUhOF",
        "outputId": "55f32d6c-6e03-4878-f94a-283e85473759"
      },
      "execution_count": null,
      "outputs": [
        {
          "output_type": "stream",
          "name": "stdout",
          "text": [
            "T     --> (3, 6, 9, 12, 5, 3, 2)\n",
            "T[1]  --> 6\n",
            "T[2]  --> 9\n",
            "T[-1] --> 2\n",
            "T[-2] --> 3\n"
          ]
        }
      ]
    },
    {
      "cell_type": "code",
      "source": [
        "# Example 2:\n",
        "T = (3, 6, 9, 12, 5, 3, 2)\n",
        "print (\"T        -->\", T)\n",
        "\n",
        "print (\"T[1:3]   -->\", T[1:3])\n",
        "print (\"T[2:]    -->\", T[2:])\n",
        "print (\"T[2:5]   -->\", T[2:5])\n",
        "print (\"T[:2]    -->\", T[:2])\n",
        "print (\"T[:-1]   -->\", T[:-1])\n",
        "print (\"T[-4:-1] -->\", T[-4:-1])"
      ],
      "metadata": {
        "colab": {
          "base_uri": "https://localhost:8080/"
        },
        "id": "Cbecm9MFUpAv",
        "outputId": "cec3e9cc-5523-4da8-f7f1-c79bad5a9eb0"
      },
      "execution_count": null,
      "outputs": [
        {
          "output_type": "stream",
          "name": "stdout",
          "text": [
            "T        --> (3, 6, 9, 12, 5, 3, 2)\n",
            "T[1:3]   --> (6, 9)\n",
            "T[2:]    --> (9, 12, 5, 3, 2)\n",
            "T[2:5]   --> (9, 12, 5)\n",
            "T[:2]    --> (3, 6)\n",
            "T[:-1]   --> (3, 6, 9, 12, 5, 3)\n",
            "T[-4:-1] --> (12, 5, 3)\n"
          ]
        }
      ]
    },
    {
      "cell_type": "code",
      "source": [
        "T = (3, 6, 9, 12, 5, 3, 2)\n",
        "print (\"T       -->\", T)\n",
        "print (\"Sum     -->\", sum(T))\n",
        "print (\"Average -->\", sum(T)/len(T))\n",
        "print (\"Average -->\", sum(T)//len(T))"
      ],
      "metadata": {
        "colab": {
          "base_uri": "https://localhost:8080/"
        },
        "id": "Ad5TZtJzVWjB",
        "outputId": "6bae8fed-c5a2-4b19-e566-9b8fba1f09f9"
      },
      "execution_count": null,
      "outputs": [
        {
          "output_type": "stream",
          "name": "stdout",
          "text": [
            "T       --> (3, 6, 9, 12, 5, 3, 2)\n",
            "Sum     --> 40\n",
            "Average --> 5.714285714285714\n",
            "Average --> 5\n"
          ]
        }
      ]
    },
    {
      "cell_type": "code",
      "source": [
        "T = (\"Pratham\", 'Sharma', 3.14, 3)\n",
        "print (\"T         -->\", T)\n",
        "\n",
        "T1 = list(T)\n",
        "T1.append(9.8)\n",
        "T = tuple(T1)\n",
        "\n",
        "print (\"After Add -->\", T)"
      ],
      "metadata": {
        "colab": {
          "base_uri": "https://localhost:8080/"
        },
        "id": "TxVEPA6pWsbO",
        "outputId": "58cb1796-b1c1-4e1b-fce2-f7d5328f839f"
      },
      "execution_count": null,
      "outputs": [
        {
          "output_type": "stream",
          "name": "stdout",
          "text": [
            "T         --> ('Pratham', 'Sharma', 3.14, 3)\n",
            "After Add --> ('Pratham', 'Sharma', 3.14, 3, 9.8)\n"
          ]
        }
      ]
    },
    {
      "cell_type": "code",
      "source": [
        "\n",
        "T = (\"Pratham\", 'Sharma', 3.14, 3)\n",
        "print (\"T -->\", T)\n",
        "\n",
        "T[2] = 900               # Error; 'tuple' object does not support item assignment\n",
        "print (\"T -->\", T)\n",
        "\n",
        "#Tuples are unchangeable. We cannot add items to it."
      ],
      "metadata": {
        "colab": {
          "base_uri": "https://localhost:8080/",
          "height": 228
        },
        "id": "kCVroCOLWyDn",
        "outputId": "83fffb11-a8f2-4f2f-eeea-cac15b9be5be"
      },
      "execution_count": null,
      "outputs": [
        {
          "output_type": "stream",
          "name": "stdout",
          "text": [
            "T --> ('Pratham', 'Sharma', 3.14, 3)\n"
          ]
        },
        {
          "output_type": "error",
          "ename": "TypeError",
          "evalue": "'tuple' object does not support item assignment",
          "traceback": [
            "\u001b[0;31m---------------------------------------------------------------------------\u001b[0m",
            "\u001b[0;31mTypeError\u001b[0m                                 Traceback (most recent call last)",
            "\u001b[0;32m<ipython-input-17-5dc44cadf4c4>\u001b[0m in \u001b[0;36m<cell line: 4>\u001b[0;34m()\u001b[0m\n\u001b[1;32m      2\u001b[0m \u001b[0mprint\u001b[0m \u001b[0;34m(\u001b[0m\u001b[0;34m\"T -->\"\u001b[0m\u001b[0;34m,\u001b[0m \u001b[0mT\u001b[0m\u001b[0;34m)\u001b[0m\u001b[0;34m\u001b[0m\u001b[0;34m\u001b[0m\u001b[0m\n\u001b[1;32m      3\u001b[0m \u001b[0;34m\u001b[0m\u001b[0m\n\u001b[0;32m----> 4\u001b[0;31m \u001b[0mT\u001b[0m\u001b[0;34m[\u001b[0m\u001b[0;36m2\u001b[0m\u001b[0;34m]\u001b[0m \u001b[0;34m=\u001b[0m \u001b[0;36m900\u001b[0m               \u001b[0;31m# Error; 'tuple' object does not support item assignment\u001b[0m\u001b[0;34m\u001b[0m\u001b[0;34m\u001b[0m\u001b[0m\n\u001b[0m\u001b[1;32m      5\u001b[0m \u001b[0mprint\u001b[0m \u001b[0;34m(\u001b[0m\u001b[0;34m\"T -->\"\u001b[0m\u001b[0;34m,\u001b[0m \u001b[0mT\u001b[0m\u001b[0;34m)\u001b[0m\u001b[0;34m\u001b[0m\u001b[0;34m\u001b[0m\u001b[0m\n\u001b[1;32m      6\u001b[0m \u001b[0;34m\u001b[0m\u001b[0m\n",
            "\u001b[0;31mTypeError\u001b[0m: 'tuple' object does not support item assignment"
          ]
        }
      ]
    },
    {
      "cell_type": "code",
      "source": [
        "T = (\"Pratham\", 'Sharma', 3.14, 3)\n",
        "print (\"T            -->\", T)\n",
        "\n",
        "T1 = list(T)\n",
        "T1.insert(2, \"Rahul\")\n",
        "T = tuple(T1)\n",
        "\n",
        "print (\"After Insert -->\", T)"
      ],
      "metadata": {
        "colab": {
          "base_uri": "https://localhost:8080/"
        },
        "id": "wioMwLuKWz82",
        "outputId": "a86bcf11-950d-46ff-b817-6d6478048b99"
      },
      "execution_count": null,
      "outputs": [
        {
          "output_type": "stream",
          "name": "stdout",
          "text": [
            "T            --> ('Pratham', 'Sharma', 3.14, 3)\n",
            "After Insert --> ('Pratham', 'Sharma', 'Rahul', 3.14, 3)\n"
          ]
        }
      ]
    },
    {
      "cell_type": "code",
      "source": [
        "T = (\"Pratham\", 'Sharma', 3.14, 3)\n",
        "print (\"T            -->\", T)\n",
        "\n",
        "T1 = list(T)\n",
        "del T1[1]\n",
        "T = tuple(T1)\n",
        "\n",
        "print (\"After Delete -->\", T)"
      ],
      "metadata": {
        "colab": {
          "base_uri": "https://localhost:8080/"
        },
        "id": "pvg-PeyeYJaL",
        "outputId": "b7565f15-cd7a-47d3-821e-a68f01be160d"
      },
      "execution_count": null,
      "outputs": [
        {
          "output_type": "stream",
          "name": "stdout",
          "text": [
            "T            --> ('Pratham', 'Sharma', 3.14, 3)\n",
            "After Delete --> ('Pratham', 3.14, 3)\n"
          ]
        }
      ]
    },
    {
      "cell_type": "code",
      "source": [
        "database=[]  #empty list\n",
        "\n",
        "for i in range(1):\n",
        "  name=input(\"enter the name: \")\n",
        "  gender=input(\"enter the gender: \")\n",
        "  age=input(\"enter age: \")\n",
        "  location=input(\"enter location: \")\n",
        "  database.append({\"name\": name, \"gender\": gender, \"age\": age, \"location\": location})\n",
        "\n",
        "print(\"Database entries: \")\n",
        "for entry in database:\n",
        "  print(f\"Name: {entry['name']}, Gender: {entry['gender']}, Age: {entry['age']}, Location: {entry['location']}\")\n",
        "  print()\n",
        "\n",
        "index = int(input(\"Enter the index of the entry you want to modify (1-5): \")) - 1\n",
        "attribute = input(\"Enter the attribute you want to modify (name/gender/age/location): \")\n",
        "new_value = input(\"Enter the new value: \")\n",
        "if attribute in database[index]:\n",
        "    database[index][attribute] = new_value\n",
        "    print(\"Entry modified successfully!\\n\")\n",
        "else:\n",
        "    print(\"Invalid attribute!\")\n",
        "\n",
        "print(\"Database Entries after Modification:\")\n",
        "for entry in database:\n",
        "    print(f\"Name: {entry['name']}, Gender: {entry['gender']}, Age: {entry['age']}, Location: {entry['location']}\")\n",
        "\n"
      ],
      "metadata": {
        "colab": {
          "base_uri": "https://localhost:8080/"
        },
        "id": "pd7q58v5bNqB",
        "outputId": "5b79e910-904f-4f79-db70-314c0bbf6c88"
      },
      "execution_count": null,
      "outputs": [
        {
          "output_type": "stream",
          "name": "stdout",
          "text": [
            "enter the name: AVANI\n",
            "enter the gender: F\n",
            "enter age: 19\n",
            "enter location: FBD\n",
            "Database entries: \n",
            "Name: AVANI, Gender: F, Age: 19, Location: FBD\n",
            "\n",
            "Enter the index of the entry you want to modify (1-5): 1\n",
            "Enter the attribute you want to modify (name/gender/age/location): age\n",
            "Enter the new value: 20\n",
            "Entry modified successfully!\n",
            "Database Entries after Modification:\n",
            "Name: AVANI, Gender: F, Age: 20, Location: FBD\n"
          ]
        }
      ]
    },
    {
      "cell_type": "code",
      "source": [
        "database = []\n",
        "\n",
        "for i in range(2):\n",
        "    name = input(\"Enter name: \")\n",
        "    gender = input(\"Enter gender: \")\n",
        "    age = input(\"Enter age: \")\n",
        "    location = input(\"Enter location: \")\n",
        "    database.append({\"name\": name, \"gender\": gender, \"age\": age, \"location\": location})\n",
        "\n",
        "\n",
        "print(\"Database Entries:\")\n",
        "for entry in database:\n",
        "    print(\"Name: \" + entry['name'] + \", Gender: \" + entry['gender'] + \", Age: \" + entry['age'] + \", Location: \" + entry['location'])\n",
        "\n",
        "\n",
        "name_to_modify = input(\"Enter the name of the entry you want to modify: \\n\")\n",
        "found = False\n",
        "for entry in database:\n",
        "    if entry['name'] == name_to_modify:\n",
        "        attribute = input(\"Enter the attribute you want to modify (name/gender/age/location): \\n\")\n",
        "        new_value = input(\"Enter the new value: \\n\")\n",
        "        if attribute in entry:\n",
        "            entry[attribute] = new_value\n",
        "            found = True\n",
        "            print(\"Entry modified successfully!\\n\")\n",
        "        else:\n",
        "            print(\"Invalid attribute!\\n\")\n",
        "        break\n",
        "\n",
        "if not found:\n",
        "    print(\"Entry not found!\\n\")\n",
        "\n",
        "\n",
        "print(\"Database Entries after Modification:\\n\")\n",
        "for entry in database:\n",
        "    print(\"Name: \" + entry['name'] + \", Gender: \" + entry['gender'] + \", Age: \" + entry['age'] + \", Location: \" + entry['location'])\n"
      ],
      "metadata": {
        "colab": {
          "base_uri": "https://localhost:8080/"
        },
        "id": "oVhEEn4yiFwd",
        "outputId": "13c217cf-ee5d-4bd7-a824-a059d5c57dcd"
      },
      "execution_count": null,
      "outputs": [
        {
          "output_type": "stream",
          "name": "stdout",
          "text": [
            "Enter name: Mylo\n",
            "Enter gender: M\n",
            "Enter age: 2\n",
            "Enter location: Patiala\n",
            "Enter name: Avani\n",
            "Enter gender: F\n",
            "Enter age: 20\n",
            "Enter location: FBD\n",
            "Database Entries:\n",
            "Name: Mylo, Gender: M, Age: 2, Location: Patiala\n",
            "Name: Avani, Gender: F, Age: 20, Location: FBD\n",
            "Enter the name of the entry you want to modify: \n",
            "Mylo\n",
            "Enter the attribute you want to modify (name/gender/age/location): \n",
            "location\n",
            "Enter the new value: \n",
            "fbd\n",
            "Entry modified successfully!\n",
            "\n",
            "Database Entries after Modification:\n",
            "\n",
            "Name: Mylo, Gender: M, Age: 2, Location: fbd\n",
            "Name: Avani, Gender: F, Age: 20, Location: FBD\n"
          ]
        }
      ]
    },
    {
      "cell_type": "code",
      "source": [
        "fp=open('namerollmarks.txt')\t\t# Open the file in reading mode\n",
        "for line in fp: \t\t    # print line by line\n",
        "\tprint (line.strip())\n",
        "fp.close()"
      ],
      "metadata": {
        "colab": {
          "base_uri": "https://localhost:8080/"
        },
        "id": "ILIdZi4vj2-n",
        "outputId": "ccf02a9a-3402-4f0d-cf94-f39e6b5aecb9"
      },
      "execution_count": null,
      "outputs": [
        {
          "output_type": "stream",
          "name": "stdout",
          "text": [
            "Name   roll no. marks\n",
            "Priya\t101\t89\n",
            "Tanya\t102\t56\n",
            "Priyanka\t103\t98\n",
            "divya\t104\t23\n",
            "tanvi\t105\t35\n",
            "Ishita\t106\t9\n",
            "vani\t        107\t22\n",
            "Anjali\t108\t11\n",
            "Shreya\t109\t33\n",
            "riya\t        110\t44\n",
            "Sneha\t111\t66\n",
            "Ishwar      112\t87\n",
            "Gayatri\t113\t65\n",
            "varsha\t114\t43\n",
            "Ira\t        115\t21\n",
            "rahul\t116\t5\n",
            "Abhishek\t117\t55\n",
            "Aditya\t118\t10\n",
            "Amit\t119\t1\n",
            "mahesh\t120\t4\n",
            "ROHIT\t121\t5\n",
            "yash\t        122\t7\n",
            "Ankit\t123\t7\n",
            "shyam\t124\t9\n",
            "Deepak\t125\t80\n",
            "Aryan\t126\t82\n",
            "Raj\t        127\t84\n",
            "Arjun\t128\t86\n",
            "Manoj\t129\t90\n",
            "Gita   \t130\t92\n",
            "Lakshmi \t131\t94\n",
            "Saroj \t132\t94.5\n",
            "Lalita \t133\t98\n",
            "Shanti \t134\t99\n",
            "Radha      135\t0\n",
            "Sunita \t136\t0\n",
            "Suman \t137\t79\n",
            "Ganesh \t138\t74\n",
            "Addy\t139\t73\n",
            "Srimati \t140\t77\n",
            "Gopal \t141\t54\n",
            "Naresh \t142\t69\n",
            "Dinesh \t143\t68\n",
            "Umesh \t144\t61\n",
            "Manoj      145\t49\n",
            "Vinod\t146\t91\n",
            "Dipak       147\t81\n",
            "Jiya   \t148\t100\n",
            "Ginni\t149\t100\n",
            "Jeny\t        150\t100\n"
          ]
        }
      ]
    },
    {
      "cell_type": "code",
      "source": [
        "file = open('namerollmarks.txt', 'r')\n",
        "for line in file:\n",
        "    parts = line.strip().split()\n",
        "    name = parts[0]\n",
        "    marks = int(parts[2])\n",
        "    if marks < 35:\n",
        "      print(name)\n",
        "\n",
        "file.close()\n"
      ],
      "metadata": {
        "colab": {
          "base_uri": "https://localhost:8080/",
          "height": 211
        },
        "id": "itVEhqv8pQ2i",
        "outputId": "394601fc-842f-4430-fa5e-b7f06225301f"
      },
      "execution_count": null,
      "outputs": [
        {
          "output_type": "error",
          "ename": "ValueError",
          "evalue": "invalid literal for int() with base 10: 'no.'",
          "traceback": [
            "\u001b[0;31m---------------------------------------------------------------------------\u001b[0m",
            "\u001b[0;31mValueError\u001b[0m                                Traceback (most recent call last)",
            "\u001b[0;32m<ipython-input-11-53f3d90bd8bb>\u001b[0m in \u001b[0;36m<cell line: 2>\u001b[0;34m()\u001b[0m\n\u001b[1;32m      3\u001b[0m     \u001b[0mparts\u001b[0m \u001b[0;34m=\u001b[0m \u001b[0mline\u001b[0m\u001b[0;34m.\u001b[0m\u001b[0mstrip\u001b[0m\u001b[0;34m(\u001b[0m\u001b[0;34m)\u001b[0m\u001b[0;34m.\u001b[0m\u001b[0msplit\u001b[0m\u001b[0;34m(\u001b[0m\u001b[0;34m)\u001b[0m\u001b[0;34m\u001b[0m\u001b[0;34m\u001b[0m\u001b[0m\n\u001b[1;32m      4\u001b[0m     \u001b[0mname\u001b[0m \u001b[0;34m=\u001b[0m \u001b[0mparts\u001b[0m\u001b[0;34m[\u001b[0m\u001b[0;36m0\u001b[0m\u001b[0;34m]\u001b[0m\u001b[0;34m\u001b[0m\u001b[0;34m\u001b[0m\u001b[0m\n\u001b[0;32m----> 5\u001b[0;31m     \u001b[0mmarks\u001b[0m \u001b[0;34m=\u001b[0m \u001b[0mint\u001b[0m\u001b[0;34m(\u001b[0m\u001b[0mparts\u001b[0m\u001b[0;34m[\u001b[0m\u001b[0;36m2\u001b[0m\u001b[0;34m]\u001b[0m\u001b[0;34m)\u001b[0m\u001b[0;34m\u001b[0m\u001b[0;34m\u001b[0m\u001b[0m\n\u001b[0m\u001b[1;32m      6\u001b[0m     \u001b[0;32mif\u001b[0m \u001b[0mmarks\u001b[0m \u001b[0;34m<\u001b[0m \u001b[0;36m35\u001b[0m\u001b[0;34m:\u001b[0m\u001b[0;34m\u001b[0m\u001b[0;34m\u001b[0m\u001b[0m\n\u001b[1;32m      7\u001b[0m       \u001b[0mprint\u001b[0m\u001b[0;34m(\u001b[0m\u001b[0mname\u001b[0m\u001b[0;34m)\u001b[0m\u001b[0;34m\u001b[0m\u001b[0;34m\u001b[0m\u001b[0m\n",
            "\u001b[0;31mValueError\u001b[0m: invalid literal for int() with base 10: 'no.'"
          ]
        }
      ]
    },
    {
      "cell_type": "code",
      "source": [
        "# 1. Open the file for reading\n",
        "# Not recommended practice, use \"with open\" for safety\n",
        "fp = open('namerollmarks.txt', 'r')\n",
        "\n",
        "# 2. Read the entire file content into a list of lines\n",
        "# \"readlines\" gets each line of the file\n",
        "lines = fp.readlines()\n",
        "\n",
        "# 3. Loop through each line\n",
        "for line in lines:\n",
        "\n",
        "    # 4. Remove any leading/trailing spaces from the line\n",
        "    clean_line = line.strip()\n",
        "\n",
        "    # 5. Split the line into name and score (assuming space separated)\n",
        "    if clean_line:\n",
        "      name, score= clean_line.split()\n",
        "\n",
        "    # 6. Convert the score string to a number\n",
        "    score_number = int(score)\n",
        "\n",
        "    # 7. Check if the score is less than 35\n",
        "    if score_number < 35:\n",
        "\n",
        "        # 8. Print the name and \"FAIL\" message\n",
        "        print(f\"{name} FAIL\")  # f-string for easy formatting\n",
        "\n",
        "# 9. Close the file manually\n",
        "fp.close()"
      ],
      "metadata": {
        "id": "IuueLZcSqNcx"
      },
      "execution_count": null,
      "outputs": []
    },
    {
      "cell_type": "code",
      "source": [
        "fp=open('namerollmarks.txt')\n",
        "for line in fp:\n",
        "  word=line.split()\n",
        "  if(int(word[3])<35):\n",
        "    print(word[0])\n",
        "fp.close()\n"
      ],
      "metadata": {
        "id": "Q1_EnkxBt2Y1"
      },
      "execution_count": null,
      "outputs": []
    },
    {
      "cell_type": "code",
      "source": [
        "\n",
        "fp=open('std.txt')\n",
        "for line in fp:\n",
        "  word = line.split()\n",
        "  if(int(word[2])<35):\n",
        "    print(word)\n",
        "fp.close()"
      ],
      "metadata": {
        "id": "3SUsWTNpwWm8"
      },
      "execution_count": null,
      "outputs": []
    },
    {
      "cell_type": "code",
      "source": [
        "n = int(input(\"Enter a No: \"))\n",
        "f=0\n",
        "for i in range(2, n//2 + 1):\n",
        "\tif  n % i == 0:\n",
        "\t\tf=1\n",
        "\t\tbreak\n",
        "\n",
        "if f==0:\n",
        "\tprint (\"Prime\")\n",
        "else:\n",
        "\tprint (\"Not Prime\")"
      ],
      "metadata": {
        "id": "9Ii5VL6iwNQx",
        "outputId": "29a33f34-b7d9-4efc-ee4e-934b4e87eae4",
        "colab": {
          "base_uri": "https://localhost:8080/"
        }
      },
      "execution_count": null,
      "outputs": [
        {
          "output_type": "stream",
          "name": "stdout",
          "text": [
            "Enter a No: 4\n",
            "Not Prime\n"
          ]
        }
      ]
    },
    {
      "cell_type": "code",
      "source": [
        "n = int(input(\"Enter a number: \"))\n",
        "prime_sum = 0\n",
        "\n",
        "for num in range(2, n + 1):\n",
        "    is_prime = True\n",
        "    for i in range(2, int(num//2) + 1):\n",
        "        if num % i == 0:\n",
        "            is_prime = False\n",
        "            break\n",
        "    if is_prime:\n",
        "        prime_sum += num\n",
        "\n",
        "print(\"Sum of prime numbers from 1 to\", n, \"is:\", prime_sum)\n"
      ],
      "metadata": {
        "colab": {
          "base_uri": "https://localhost:8080/"
        },
        "id": "cGugkMUwyAgQ",
        "outputId": "1c7fb5c9-1a86-494c-d7b9-3c88614c3cd2"
      },
      "execution_count": null,
      "outputs": [
        {
          "output_type": "stream",
          "name": "stdout",
          "text": [
            "Enter a number: 5\n",
            "Sum of prime numbers from 1 to 5 is: 10\n"
          ]
        }
      ]
    },
    {
      "cell_type": "code",
      "source": [
        "n = int(input(\"Enter a number: \"))\n",
        "divisible_sum = 0\n",
        "\n",
        "for num in range(1, n + 1):\n",
        "    if num % 7 == 0 and num % 9 == 0:\n",
        "        divisible_sum += num\n",
        "\n",
        "print(\"Sum of numbers divisible by both 7 and 9 from 1 to\", n, \"is:\", divisible_sum)\n"
      ],
      "metadata": {
        "colab": {
          "base_uri": "https://localhost:8080/"
        },
        "id": "1w7iEaQlyfzt",
        "outputId": "1df152cc-fa5a-46d7-a55c-bff54dbe4f80"
      },
      "execution_count": null,
      "outputs": [
        {
          "output_type": "stream",
          "name": "stdout",
          "text": [
            "Enter a number: 63\n",
            "Sum of numbers divisible by both 7 and 9 from 1 to 63 is: 63\n"
          ]
        }
      ]
    },
    {
      "cell_type": "code",
      "source": [
        "num1 = int(input(\"Enter the first number: \"))\n",
        "num2 = int(input(\"Enter the second number: \"))\n",
        "num3 = int(input(\"Enter the third number: \"))\n",
        "\n",
        "maximum = max(num1, num2, num3)\n",
        "print(\"The maximum number among\", num1, \",\", num2, \", and\", num3, \"is:\", maximum)\n"
      ],
      "metadata": {
        "colab": {
          "base_uri": "https://localhost:8080/"
        },
        "id": "Eff1SFa8zYcM",
        "outputId": "27824aa6-f250-4d09-9d15-62b9759c2c6b"
      },
      "execution_count": null,
      "outputs": [
        {
          "output_type": "stream",
          "name": "stdout",
          "text": [
            "Enter the first number: 1\n",
            "Enter the second number: 2\n",
            "Enter the third number: 3\n",
            "The maximum number among 1 , 2 , and 3 is: 3\n"
          ]
        }
      ]
    },
    {
      "cell_type": "code",
      "source": [
        "def Add(a,b):\n",
        "\tc=a+b\n",
        "\treturn c\n",
        "\n",
        "print (\"Add(5,5) -->\", Add(5,5))"
      ],
      "metadata": {
        "colab": {
          "base_uri": "https://localhost:8080/"
        },
        "id": "6AcRrhDLzvv3",
        "outputId": "2670d0b7-5eed-4a6d-cbf5-48fa66102ff8"
      },
      "execution_count": null,
      "outputs": [
        {
          "output_type": "stream",
          "name": "stdout",
          "text": [
            "Add(5,5) --> 10\n"
          ]
        }
      ]
    },
    {
      "cell_type": "code",
      "source": [
        "def IsPrime(n):\n",
        "\tfor i in range(2, n//2 + 1):\n",
        "\t\tif n%i==0:\n",
        "\t\t\treturn 0\n",
        "\treturn 1\n",
        "\n",
        "print (\"IsPrime(20)  --> \", IsPrime(20))\n",
        "print (\"IsPrime(23)  --> \", IsPrime(23))\n",
        "print (\"IsPrime(200) --> \", IsPrime(200))\n",
        "print (\"IsPrime(37)  --> \", IsPrime(37))"
      ],
      "metadata": {
        "colab": {
          "base_uri": "https://localhost:8080/"
        },
        "id": "gMXrSC1r0H3r",
        "outputId": "09cb943f-fcb7-4d52-8ef3-422e37b8a76b"
      },
      "execution_count": null,
      "outputs": [
        {
          "output_type": "stream",
          "name": "stdout",
          "text": [
            "IsPrime(20)  -->  0\n",
            "IsPrime(23)  -->  1\n",
            "IsPrime(200) -->  0\n",
            "IsPrime(37)  -->  1\n"
          ]
        }
      ]
    },
    {
      "cell_type": "code",
      "source": [
        "def AddN(n):\n",
        "\ts= sum(range(n+1))\n",
        "\treturn s\n",
        "\n",
        "print (\"AddN(10)  --> \", AddN(10))\n",
        "print (\"AddN(20)  --> \", AddN(20))\n",
        "print (\"AddN(50)  --> \", AddN(50))\n",
        "print (\"AddN(200) --> \", AddN(200))"
      ],
      "metadata": {
        "colab": {
          "base_uri": "https://localhost:8080/"
        },
        "id": "p8R5wBkD0mIw",
        "outputId": "8fd305c4-9d23-4877-b179-614f01f94a03"
      },
      "execution_count": null,
      "outputs": [
        {
          "output_type": "stream",
          "name": "stdout",
          "text": [
            "AddN(10)  -->  55\n",
            "AddN(20)  -->  210\n",
            "AddN(50)  -->  1275\n",
            "AddN(200) -->  20100\n"
          ]
        }
      ]
    },
    {
      "cell_type": "code",
      "source": [
        "def sum_of_odd_numbers(n):\n",
        "    odd_sum = 0\n",
        "    for num in range(1, n + 1, 2):\n",
        "        odd_sum += num\n",
        "    return odd_sum\n",
        "\n",
        "n = int(input(\"Enter a number: \"))\n",
        "result = sum_of_odd_numbers(n)\n",
        "print(\"Sum of odd numbers from 1 to\", n, \"is:\", result)\n"
      ],
      "metadata": {
        "colab": {
          "base_uri": "https://localhost:8080/"
        },
        "id": "1oXRP0aR01eA",
        "outputId": "2a80c761-13f0-43e1-c1ae-2a036c613076"
      },
      "execution_count": null,
      "outputs": [
        {
          "output_type": "stream",
          "name": "stdout",
          "text": [
            "Enter a number: 9\n",
            "Sum of odd numbers from 1 to 9 is: 25\n"
          ]
        }
      ]
    },
    {
      "cell_type": "code",
      "source": [
        "def is_prime(num):\n",
        "    if num <= 1:\n",
        "        return False\n",
        "    for i in range(2, int(num//2) + 1):\n",
        "        if num % i == 0:\n",
        "            return False\n",
        "    return True\n",
        "\n",
        "def sum_of_primes(n):\n",
        "    prime_sum = 0\n",
        "    for num in range(2, n + 1):\n",
        "        if is_prime(num):\n",
        "            prime_sum += num\n",
        "    return prime_sum\n",
        "\n",
        "n = int(input(\"Enter a number: \"))\n",
        "result = sum_of_primes(n)\n",
        "print(\"Sum of prime numbers from 1 to\", n, \"is:\", result)\n"
      ],
      "metadata": {
        "colab": {
          "base_uri": "https://localhost:8080/"
        },
        "id": "XQSMoYmo1wX3",
        "outputId": "f934a4c5-64fc-48ba-d900-32f0414ab558"
      },
      "execution_count": null,
      "outputs": [
        {
          "output_type": "stream",
          "name": "stdout",
          "text": [
            "Enter a number: 10\n",
            "Sum of prime numbers from 1 to 10 is: 17\n"
          ]
        }
      ]
    },
    {
      "cell_type": "code",
      "source": [
        "\n",
        "with open('std.txt') as fp:\n",
        "    for line in fp:\n",
        "        word = line.split()\n",
        "        if int(word[2]) < 35:\n",
        "            print(word)\n",
        "\n",
        "fp.close()\n"
      ],
      "metadata": {
        "colab": {
          "base_uri": "https://localhost:8080/",
          "height": 211
        },
        "id": "eK8Wyt2u2Kgy",
        "outputId": "58dff95b-1546-4fdb-b302-0facfb1068a6"
      },
      "execution_count": null,
      "outputs": [
        {
          "output_type": "error",
          "ename": "ValueError",
          "evalue": "invalid literal for int() with base 10: 'Marks(100)'",
          "traceback": [
            "\u001b[0;31m---------------------------------------------------------------------------\u001b[0m",
            "\u001b[0;31mValueError\u001b[0m                                Traceback (most recent call last)",
            "\u001b[0;32m<ipython-input-28-dbed1969f65d>\u001b[0m in \u001b[0;36m<cell line: 1>\u001b[0;34m()\u001b[0m\n\u001b[1;32m      2\u001b[0m     \u001b[0;32mfor\u001b[0m \u001b[0mline\u001b[0m \u001b[0;32min\u001b[0m \u001b[0mfp\u001b[0m\u001b[0;34m:\u001b[0m\u001b[0;34m\u001b[0m\u001b[0;34m\u001b[0m\u001b[0m\n\u001b[1;32m      3\u001b[0m         \u001b[0mword\u001b[0m \u001b[0;34m=\u001b[0m \u001b[0mline\u001b[0m\u001b[0;34m.\u001b[0m\u001b[0msplit\u001b[0m\u001b[0;34m(\u001b[0m\u001b[0;34m)\u001b[0m\u001b[0;34m\u001b[0m\u001b[0;34m\u001b[0m\u001b[0m\n\u001b[0;32m----> 4\u001b[0;31m         \u001b[0;32mif\u001b[0m \u001b[0mint\u001b[0m\u001b[0;34m(\u001b[0m\u001b[0mword\u001b[0m\u001b[0;34m[\u001b[0m\u001b[0;36m2\u001b[0m\u001b[0;34m]\u001b[0m\u001b[0;34m)\u001b[0m \u001b[0;34m<\u001b[0m \u001b[0;36m35\u001b[0m\u001b[0;34m:\u001b[0m\u001b[0;34m\u001b[0m\u001b[0;34m\u001b[0m\u001b[0m\n\u001b[0m\u001b[1;32m      5\u001b[0m             \u001b[0mprint\u001b[0m\u001b[0;34m(\u001b[0m\u001b[0mword\u001b[0m\u001b[0;34m)\u001b[0m\u001b[0;34m\u001b[0m\u001b[0;34m\u001b[0m\u001b[0m\n\u001b[1;32m      6\u001b[0m \u001b[0;34m\u001b[0m\u001b[0m\n",
            "\u001b[0;31mValueError\u001b[0m: invalid literal for int() with base 10: 'Marks(100)'"
          ]
        }
      ]
    },
    {
      "cell_type": "code",
      "source": [
        "# Open the file for reading\n",
        "with open('std.txt') as fp:\n",
        "    # Read line by line\n",
        "    for line in fp:\n",
        "        # Split each line into words\n",
        "        word = line.split()\n",
        "        # Check if there are enough elements in the list\n",
        "        if len(word) >= 3:\n",
        "            # Check if the third element (index 2) is a valid integer\n",
        "            if word[2].isdigit():\n",
        "                # Convert the third element to an integer and check if it's less than 35\n",
        "                if int(word[2]) < 35:\n",
        "                    # Display details with marks below 35\n",
        "                    print(word)\n",
        "# No need to explicitly close the file when using 'with open() as'\n"
      ],
      "metadata": {
        "colab": {
          "base_uri": "https://localhost:8080/"
        },
        "id": "98U5xWBC2koD",
        "outputId": "7ba63a9c-da00-419f-d769-b79f82d93a39"
      },
      "execution_count": null,
      "outputs": [
        {
          "output_type": "stream",
          "name": "stdout",
          "text": [
            "['1004', 'charelle', '14']\n",
            "['1008', 'jhase', '33']\n",
            "['1011', 'jazzmon', '6']\n",
            "['1014', 'destane', '28']\n",
            "['1015', 'nechole', '28']\n",
            "['1017', 'deklyn', '23']\n",
            "['1018', 'surafel', '28']\n",
            "['1022', 'destany', '9']\n",
            "['1023', 'cael', '27']\n",
            "['1031', 'lyberti', '11']\n",
            "['1032', 'milissa', '0']\n",
            "['1033', 'faizon', '34']\n",
            "['1036', 'johnita', '2']\n",
            "['1038', 'courtany', '9']\n",
            "['1045', 'danamarie', '11']\n",
            "['1048', 'antwion', '3']\n",
            "['1050', 'nashiya', '23']\n",
            "['1051', 'silvino', '27']\n",
            "['1053', 'shantee', '29']\n",
            "['1055', 'shantea', '30']\n",
            "['1062', 'ladarion', '10']\n",
            "['1064', 'swayze', '20']\n",
            "['1065', 'isley', '30']\n",
            "['1067', 'harvey', '10']\n",
            "['1068', 'shanitra', '28']\n",
            "['1073', 'halona', '15']\n",
            "['1077', 'vernon', '4']\n",
            "['1078', 'mersades', '4']\n",
            "['1087', 'ziair', '11']\n",
            "['1089', 'tatayana', '7']\n",
            "['1093', 'adamari', '8']\n",
            "['1098', 'kayci', '17']\n",
            "['1100', 'kayce', '17']\n",
            "['1108', 'navin', '27']\n",
            "['1109', 'rakita', '7']\n",
            "['1110', 'khylei', '20']\n",
            "['1112', 'mihail', '0']\n",
            "['1114', 'maccoy', '1']\n",
            "['1116', 'shaquell', '12']\n",
            "['1119', 'addam', '34']\n",
            "['1122', 'jayliana', '20']\n",
            "['1123', 'cope', '13']\n",
            "['1125', 'mabel', '33']\n",
            "['1128', 'willy', '32']\n",
            "['1129', 'even', '14']\n",
            "['1132', 'akaash', '20']\n",
            "['1136', 'jannett', '0']\n",
            "['1140', 'rayssa', '30']\n",
            "['1141', 'sevrin', '24']\n",
            "['1143', 'robertson', '10']\n",
            "['1144', 'reneta', '29']\n",
            "['1147', 'gwenyth', '6']\n",
            "['1148', 'abbott', '6']\n",
            "['1157', 'smitha', '33']\n",
            "['1158', 'kyren', '22']\n",
            "['1161', 'harriette', '9']\n",
            "['1163', 'alok', '7']\n",
            "['1166', 'peytan', '25']\n",
            "['1170', 'shams', '3']\n",
            "['1175', 'jaedah', '29']\n",
            "['1176', 'idali', '30']\n",
            "['1178', 'jaedan', '30']\n",
            "['1182', 'ziomara', '21']\n",
            "['1183', 'kahlel', '12']\n",
            "['1185', 'susie', '22']\n",
            "['1186', 'tanmay', '10']\n",
            "['1188', 'kahlea', '7']\n",
            "['1190', 'aleina', '7']\n",
            "['1193', 'chivas', '1']\n",
            "['1196', 'safia', '25']\n",
            "['1204', 'nigel', '17']\n",
            "['1209', 'mizraim', '11']\n",
            "['1219', 'rosealie', '9']\n",
            "['1224', 'dafny', '4']\n",
            "['1228', 'binta', '7']\n",
            "['1232', 'ciaran', '16']\n",
            "['1235', 'tarvis', '25']\n",
            "['1236', 'lealani', '4']\n",
            "['1238', 'daddy', '2']\n",
            "['1240', 'jaxan', '23']\n",
            "['1243', 'xaria', '1']\n",
            "['1244', 'zeth', '4']\n",
            "['1246', 'zeta', '33']\n",
            "['1248', 'aidon', '24']\n",
            "['1252', 'fontaine', '33']\n",
            "['1255', 'thea', '26']\n",
            "['1256', 'pascual', '18']\n",
            "['1258', 'coralee', '14']\n",
            "['1262', 'jotham', '25']\n",
            "['1264', 'pooja', '32']\n",
            "['1267', 'seif', '7']\n",
            "['1268', 'pandora', '28']\n",
            "['1269', 'mahlet', '13']\n",
            "['1270', 'jesicca', '24']\n",
            "['1275', 'karris', '27']\n",
            "['1279', 'daion', '31']\n",
            "['1282', 'marko', '21']\n",
            "['1283', 'marki', '15']\n",
            "['1284', 'bobak', '20']\n",
            "['1292', 'mylah', '4']\n",
            "['1298', 'caniyah', '31']\n",
            "['1299', 'tynia', '3']\n",
            "['1300', 'yariah', '15']\n",
            "['1303', 'hoang', '7']\n",
            "['1306', 'mayara', '26']\n",
            "['1308', 'rilie', '24']\n",
            "['1311', 'dantavious', '18']\n",
            "['1313', 'shalaine', '27']\n",
            "['1324', 'tymir', '20']\n",
            "['1327', 'ziva', '2']\n",
            "['1328', 'anitria', '21']\n",
            "['1329', 'chidinma', '21']\n",
            "['1331', 'bronx', '12']\n",
            "['1332', 'danicka', '13']\n",
            "['1336', 'laury', '29']\n",
            "['1337', 'kalicia', '5']\n",
            "['1341', 'laura', '15']\n",
            "['1350', 'daivion', '14']\n",
            "['1352', 'jadasia', '2']\n",
            "['1356', 'nykolas', '25']\n",
            "['1358', 'cherry', '28']\n",
            "['1359', 'shya', '23']\n",
            "['1362', 'poseidon', '18']\n",
            "['1366', 'delsin', '9']\n",
            "['1374', 'elgie', '4']\n",
            "['1375', 'avien', '22']\n",
            "['1379', 'chizaram', '23']\n",
            "['1380', 'karrine', '1']\n",
            "['1384', 'skya', '28']\n",
            "['1386', 'skyy', '9']\n",
            "['1389', 'aveion', '28']\n",
            "['1396', 'tracen', '14']\n",
            "['1403', 'dashanay', '20']\n",
            "['1406', 'martyn', '23']\n",
            "['1411', 'dashanae', '11']\n",
            "['1412', 'braxtyn', '30']\n",
            "['1414', 'tammera', '15']\n",
            "['1415', 'camala', '20']\n",
            "['1418', 'eternity', '13']\n",
            "['1420', 'ewing', '27']\n",
            "['1424', 'nahshon', '31']\n",
            "['1427', 'vitaliy', '3']\n",
            "['1431', 'kynisha', '24']\n",
            "['1433', 'missael', '21']\n",
            "['1435', 'crislyn', '23']\n",
            "['1437', 'christyana', '16']\n",
            "['1439', 'stevey', '4']\n",
            "['1441', 'marilou', '23']\n",
            "['1443', 'brendt', '27']\n",
            "['1446', 'zissel', '8']\n",
            "['1448', 'stevee', '9']\n",
            "['1449', 'brendy', '7']\n",
            "['1450', 'tyriek', '17']\n",
            "['1454', 'quadree', '5']\n",
            "['1458', 'klayten', '23']\n",
            "['1462', 'demarco', '5']\n",
            "['1463', 'ileana', '5']\n",
            "['1465', 'seve', '5']\n",
            "['1470', 'tyshia', '25']\n",
            "['1473', 'gerrie', '8']\n",
            "['1476', 'genesi', '21']\n",
            "['1478', 'navneet', '12']\n",
            "['1484', 'shaquitta', '5']\n",
            "['1485', 'lizeth', '25']\n",
            "['1487', 'deneane', '15']\n",
            "['1490', 'aaron', '23']\n",
            "['1492', 'marinda', '29']\n",
            "['1494', 'joleen', '20']\n",
            "['1499', 'emmalou', '4']\n"
          ]
        }
      ]
    },
    {
      "cell_type": "code",
      "source": [
        "import sys\n",
        "print (sys.argv)\n",
        "a = int(sys.argv[1]) \t# First Number\n",
        "b = int(sys.argv[2])\t# Second Number\n",
        "c = a + b\n",
        "print (a, \" + \", b, \" --> \", c)"
      ],
      "metadata": {
        "colab": {
          "base_uri": "https://localhost:8080/",
          "height": 248
        },
        "id": "0GU7Aso9sR_K",
        "outputId": "46af5c01-7ef8-46e5-c6ff-ef40e7afe1ae"
      },
      "execution_count": null,
      "outputs": [
        {
          "output_type": "stream",
          "name": "stdout",
          "text": [
            "['/usr/local/lib/python3.10/dist-packages/colab_kernel_launcher.py', '-f', '/root/.local/share/jupyter/runtime/kernel-ef8356f6-e879-4cea-9025-9b42d7eba7bc.json']\n"
          ]
        },
        {
          "output_type": "error",
          "ename": "ValueError",
          "evalue": "invalid literal for int() with base 10: '-f'",
          "traceback": [
            "\u001b[0;31m---------------------------------------------------------------------------\u001b[0m",
            "\u001b[0;31mValueError\u001b[0m                                Traceback (most recent call last)",
            "\u001b[0;32m<ipython-input-3-a3d67294dc12>\u001b[0m in \u001b[0;36m<cell line: 3>\u001b[0;34m()\u001b[0m\n\u001b[1;32m      1\u001b[0m \u001b[0;32mimport\u001b[0m \u001b[0msys\u001b[0m\u001b[0;34m\u001b[0m\u001b[0;34m\u001b[0m\u001b[0m\n\u001b[1;32m      2\u001b[0m \u001b[0mprint\u001b[0m \u001b[0;34m(\u001b[0m\u001b[0msys\u001b[0m\u001b[0;34m.\u001b[0m\u001b[0margv\u001b[0m\u001b[0;34m)\u001b[0m\u001b[0;34m\u001b[0m\u001b[0;34m\u001b[0m\u001b[0m\n\u001b[0;32m----> 3\u001b[0;31m \u001b[0ma\u001b[0m \u001b[0;34m=\u001b[0m \u001b[0mint\u001b[0m\u001b[0;34m(\u001b[0m\u001b[0msys\u001b[0m\u001b[0;34m.\u001b[0m\u001b[0margv\u001b[0m\u001b[0;34m[\u001b[0m\u001b[0;36m1\u001b[0m\u001b[0;34m]\u001b[0m\u001b[0;34m)\u001b[0m    \u001b[0;31m# First Number\u001b[0m\u001b[0;34m\u001b[0m\u001b[0;34m\u001b[0m\u001b[0m\n\u001b[0m\u001b[1;32m      4\u001b[0m \u001b[0mb\u001b[0m \u001b[0;34m=\u001b[0m \u001b[0mint\u001b[0m\u001b[0;34m(\u001b[0m\u001b[0msys\u001b[0m\u001b[0;34m.\u001b[0m\u001b[0margv\u001b[0m\u001b[0;34m[\u001b[0m\u001b[0;36m2\u001b[0m\u001b[0;34m]\u001b[0m\u001b[0;34m)\u001b[0m    \u001b[0;31m# Second Number\u001b[0m\u001b[0;34m\u001b[0m\u001b[0;34m\u001b[0m\u001b[0m\n\u001b[1;32m      5\u001b[0m \u001b[0mc\u001b[0m \u001b[0;34m=\u001b[0m \u001b[0ma\u001b[0m \u001b[0;34m+\u001b[0m \u001b[0mb\u001b[0m\u001b[0;34m\u001b[0m\u001b[0;34m\u001b[0m\u001b[0m\n",
            "\u001b[0;31mValueError\u001b[0m: invalid literal for int() with base 10: '-f'"
          ]
        }
      ]
    },
    {
      "cell_type": "code",
      "source": [
        "import sys\n",
        "print (sys.argv)\n",
        "s = sys.argv[1] + \" \" + sys.argv[2]\n",
        "print (sys.argv[1], \" + \", sys.argv[2], \" --> \", s)"
      ],
      "metadata": {
        "colab": {
          "base_uri": "https://localhost:8080/"
        },
        "id": "l2PGIFDTsavD",
        "outputId": "aa9453a8-931c-43ae-bd3d-ec3b7368e927"
      },
      "execution_count": null,
      "outputs": [
        {
          "output_type": "stream",
          "name": "stdout",
          "text": [
            "['/usr/local/lib/python3.10/dist-packages/colab_kernel_launcher.py', '-f', '/root/.local/share/jupyter/runtime/kernel-ef8356f6-e879-4cea-9025-9b42d7eba7bc.json']\n",
            "-f  +  /root/.local/share/jupyter/runtime/kernel-ef8356f6-e879-4cea-9025-9b42d7eba7bc.json  -->  -f /root/.local/share/jupyter/runtime/kernel-ef8356f6-e879-4cea-9025-9b42d7eba7bc.json\n"
          ]
        }
      ]
    },
    {
      "cell_type": "code",
      "source": [
        "fp=open('result.txt','w')\t# Open the file in writing mode\n",
        "for  i in range(1,11):\n",
        "\tfp.write(str(i) + \"\\n\")\t# Writing to the file line by line\n",
        "fp.close()\n",
        "\n",
        "print (\"Writing done !! \\nOpen result.txt to view the content\")"
      ],
      "metadata": {
        "id": "wvSWQA6js3A8"
      },
      "execution_count": null,
      "outputs": []
    },
    {
      "cell_type": "code",
      "source": [
        "fp=open('std.txt')\t\t# Open the file in reading mode\n",
        "for line in fp: \t\t    # print line by line\n",
        "\tprint (line.strip())\n",
        "fp.close()"
      ],
      "metadata": {
        "id": "YXq7FEP8tEL-"
      },
      "execution_count": null,
      "outputs": []
    },
    {
      "cell_type": "code",
      "source": [
        "Readfp=open('result.txt')\t\t# Open the file in reading mode\n",
        "Writefp=open('abc.txt','w')\t# Open the file in writing mode\n",
        "for line in Readfp:\n",
        "\tWritefp.write(line.upper())\n",
        "\n",
        "Writefp.close()\n",
        "Readfp.close()\n",
        "\n",
        "print (\"Writing done !! \\nOpen result.txt to view the content\")"
      ],
      "metadata": {
        "id": "KDr8MwOgtNgw"
      },
      "execution_count": null,
      "outputs": []
    },
    {
      "cell_type": "code",
      "source": [
        "with open('std.txt') as fp:\n",
        "    next(fp)  # Skip the header row\n",
        "    for line in fp:\n",
        "        words = line.split()\n",
        "        if len(words) >= 3:  # Ensure there are at least 3 elements (roll no., name, marks)\n",
        "            try:\n",
        "                marks = int(words[2])\n",
        "                if marks < 35:\n",
        "                    print(words[1])\n",
        "            except ValueError:\n",
        "                print(f\"Issue parsing marks for line: {line.strip()}\")\n"
      ],
      "metadata": {
        "id": "hDr6ENWHy1LE"
      },
      "execution_count": null,
      "outputs": []
    },
    {
      "cell_type": "code",
      "source": [
        "fp=open('std.txt')\n",
        "next(fp) #skip header row\n",
        "for line in fp:\n",
        "  words=line.split()\n",
        "  if len(words)>=3:   #ensuring there are atleast 3 elements\n",
        "    try:\n",
        "      marks=int(words[2])\n",
        "      if marks<35:\n",
        "        print(words[1])\n",
        "    except ValueError:\n",
        "      print(f\"Issue parsing marks for line: {line.strip()}\")"
      ],
      "metadata": {
        "id": "PDUs3GrjzTVZ"
      },
      "execution_count": null,
      "outputs": []
    },
    {
      "cell_type": "code",
      "source": [
        "fp=open('result.txt')\n",
        "sum=0\n",
        "for line in fp:\n",
        "  sum +=int(line.strip())\n",
        "print(sum)\n",
        "fp.close()"
      ],
      "metadata": {
        "colab": {
          "base_uri": "https://localhost:8080/"
        },
        "id": "9s5Crx0k_ls9",
        "outputId": "05fc999d-b8a6-4e67-d3a1-15650398ecbf"
      },
      "execution_count": null,
      "outputs": [
        {
          "output_type": "stream",
          "name": "stdout",
          "text": [
            "55\n"
          ]
        }
      ]
    },
    {
      "cell_type": "code",
      "source": [
        "# sum of all\n",
        "fp=open('std.txt')\n",
        "sum=0\n",
        "next(fp)\n",
        "for line in fp:\n",
        "  rollno,name,marks=line.split()\n",
        "  sum +=int(marks)\n",
        "print(sum)\n",
        "fp.close()"
      ],
      "metadata": {
        "colab": {
          "base_uri": "https://localhost:8080/"
        },
        "id": "HjgI4R5hCLV2",
        "outputId": "4babb4c0-98fe-48cd-81f4-0a624091e00a"
      },
      "execution_count": null,
      "outputs": [
        {
          "output_type": "stream",
          "name": "stdout",
          "text": [
            "25438\n"
          ]
        }
      ]
    },
    {
      "cell_type": "code",
      "source": [
        "#prime no.\n",
        "def isPrime(n):\n",
        "  if n<=1:\n",
        "    return False\n",
        "  for i in range(2,n//2 +1):\n",
        "    if n%i==0:\n",
        "      return False\n",
        "    return True\n",
        "\n",
        "fp=open('std.txt')\n",
        "next(fp)\n",
        "for line in fp:\n",
        "  rollno, name,marks=line.split()\n",
        "  if isPrime(int(marks)):\n",
        "    print(name,marks)\n",
        "fp.close()"
      ],
      "metadata": {
        "id": "SKKHNpFgDmWl"
      },
      "execution_count": null,
      "outputs": []
    },
    {
      "cell_type": "code",
      "source": [
        "#show marks less than 35\n",
        "with open('std.txt') as fp:\n",
        "    next(fp)  # Skip the header row\n",
        "    for line in fp:\n",
        "        words = line.split()\n",
        "        if len(words) >= 3:  # Ensure there are at least 3 elements (roll no., name, marks)\n",
        "            try:\n",
        "                marks = int(words[2])\n",
        "                if marks < 35:\n",
        "                    print(f\"{words[1]} - {words[2]}: Fail\")\n",
        "            except ValueError:\n",
        "                print(f\"Issue parsing marks for line: {line.strip()}\")\n"
      ],
      "metadata": {
        "id": "mHiqq1qt0RQS"
      },
      "execution_count": null,
      "outputs": []
    },
    {
      "cell_type": "code",
      "source": [
        "#max min of data\n",
        "max_marks=0\n",
        "min_marks=0\n",
        "\n",
        "fp=open('std.txt')\n",
        "next(fp)\n",
        "for line in fp:\n",
        "  rollno, name, marks=line.split()\n",
        "  marks=int(marks)\n",
        "  if marks>max_marks:\n",
        "    max_marks=marks\n",
        "  if marks<min_marks:\n",
        "    min_marks=marks\n",
        "print(max_marks)\n",
        "print(min_marks)\n",
        "fp.close()"
      ],
      "metadata": {
        "id": "pAOfzXSeF5VV"
      },
      "execution_count": null,
      "outputs": []
    },
    {
      "cell_type": "code",
      "source": [
        "#odd no.\n",
        "fp=open('std.txt')\n",
        "next(fp)\n",
        "for line in fp:\n",
        "  rollno, name, marks=line.split()\n",
        "  marks=int(marks)\n",
        "  if marks%2!=0:\n",
        "    print(name, marks)\n",
        "fp.close()"
      ],
      "metadata": {
        "id": "RpY7EVeKHDWV"
      },
      "execution_count": null,
      "outputs": []
    },
    {
      "cell_type": "code",
      "source": [
        "#even no.\n",
        "\n",
        "fp=open('std.txt')\n",
        "next(fp)\n",
        "for line in fp:\n",
        "  rollno, name, marks=line.split()\n",
        "  marks=int(marks)\n",
        "  if marks%2==0:\n",
        "    print(name, marks)\n",
        "fp.close()"
      ],
      "metadata": {
        "id": "Ap7QPnDdHxol"
      },
      "execution_count": null,
      "outputs": []
    }
  ]
}