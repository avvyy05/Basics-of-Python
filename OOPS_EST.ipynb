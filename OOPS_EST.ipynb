{
  "nbformat": 4,
  "nbformat_minor": 0,
  "metadata": {
    "colab": {
      "provenance": [],
      "authorship_tag": "ABX9TyP79mZmDdd3WTFvxSpRz/xg",
      "include_colab_link": true
    },
    "kernelspec": {
      "name": "python3",
      "display_name": "Python 3"
    },
    "language_info": {
      "name": "python"
    }
  },
  "cells": [
    {
      "cell_type": "markdown",
      "metadata": {
        "id": "view-in-github",
        "colab_type": "text"
      },
      "source": [
        "<a href=\"https://colab.research.google.com/github/avvyy05/avvyy05/blob/main/OOPS_EST.ipynb\" target=\"_parent\"><img src=\"https://colab.research.google.com/assets/colab-badge.svg\" alt=\"Open In Colab\"/></a>"
      ]
    },
    {
      "cell_type": "code",
      "execution_count": null,
      "metadata": {
        "colab": {
          "base_uri": "https://localhost:8080/"
        },
        "id": "sPYhXzPD3WcM",
        "outputId": "cfbb2be7-04bd-4484-89f1-572e625a0256"
      },
      "outputs": [
        {
          "output_type": "stream",
          "name": "stdout",
          "text": [
            "Mithu is 10 years old\n",
            "Pithu is 15 years old\n"
          ]
        }
      ],
      "source": [
        "class Parrot:\n",
        "    # class attribute\n",
        "    name = \"\"\n",
        "    age = 0\n",
        "# create parrot1 object\n",
        "parrot1 = Parrot()\n",
        "parrot1.name = \"Mithu\"\n",
        "parrot1.age = 10\n",
        "# create another object parrot2\n",
        "parrot2 = Parrot()\n",
        "parrot2.name = \"Pithu\"\n",
        "parrot2.age = 15\n",
        "# access attributes\n",
        "print(f\"{parrot1.name} is {parrot1.age} years old\")\n",
        "print(f\"{parrot2.name} is {parrot2.age} years old\")"
      ]
    },
    {
      "cell_type": "code",
      "source": [
        "class mynumber:\n",
        "\tdef __init__(self, value):\n",
        "\t\tself.value = value\n",
        "\n",
        "\tdef print_value(self):\n",
        "\t\tprint(self.value)\n",
        "\n",
        "obj1 = mynumber(17)\n",
        "obj1.print_value()"
      ],
      "metadata": {
        "colab": {
          "base_uri": "https://localhost:8080/"
        },
        "id": "nkcrTY_15F6g",
        "outputId": "44c0cdad-92f8-48e5-aea2-21c6b4bfe08c"
      },
      "execution_count": null,
      "outputs": [
        {
          "output_type": "stream",
          "name": "stdout",
          "text": [
            "17\n"
          ]
        }
      ]
    },
    {
      "cell_type": "code",
      "source": [
        "class car():\n",
        "\n",
        "\t# init method or constructor\n",
        "\tdef __init__(self, model, color):\n",
        "\t\tself.model = model\n",
        "\t\tself.color = color\n",
        "\n",
        "\tdef show(self):\n",
        "\t\tprint(\"Model is\", self.model )\n",
        "\t\tprint(\"color is\", self.color )\n",
        "\n",
        "# both objects have different self which contain their attributes\n",
        "audi = car(\"audi a4\", \"blue\")\n",
        "ferrari = car(\"ferrari 488\", \"green\")\n",
        "\n",
        "audi.show()\t # same output as car.show(audi)\n",
        "ferrari.show() # same output as car.show(ferrari)\n",
        "\n",
        "print(\"Model for audi is \",audi.model)\n",
        "print(\"Colour for ferrari is \",ferrari.color)\n"
      ],
      "metadata": {
        "colab": {
          "base_uri": "https://localhost:8080/"
        },
        "id": "SnoMDT9T5nBy",
        "outputId": "21e88c3c-ed92-4f27-edfd-666ffa66743f"
      },
      "execution_count": null,
      "outputs": [
        {
          "output_type": "stream",
          "name": "stdout",
          "text": [
            "Model is audi a4\n",
            "color is blue\n",
            "Model is ferrari 488\n",
            "color is green\n",
            "Model for audi is  audi a4\n",
            "Colour for ferrari is  green\n"
          ]
        }
      ]
    },
    {
      "cell_type": "code",
      "source": [
        "# base class\n",
        "class Animal:\n",
        "    def eat(self):\n",
        "        print( \"I can eat!\")\n",
        "    def sleep(self):\n",
        "        print(\"I can sleep!\")\n",
        "# derived class\n",
        "class Dog(Animal):      #new class dog inherits animal stuff\n",
        "    def bark(self):\n",
        "        print(\"I can bark! Woof woof!!\")\n",
        "\n",
        "# Create object of the Dog class\n",
        "dog1 = Dog()\n",
        "# Calling members of the base class\n",
        "dog1.eat()\n",
        "dog1.sleep()\n",
        "# Calling member of the derived class\n",
        "dog1.bark()"
      ],
      "metadata": {
        "colab": {
          "base_uri": "https://localhost:8080/"
        },
        "id": "Cv2mOs-E6QVl",
        "outputId": "21dfe5a1-cbaf-4c93-d300-79f41f8afbdb"
      },
      "execution_count": null,
      "outputs": [
        {
          "output_type": "stream",
          "name": "stdout",
          "text": [
            "I can eat!\n",
            "I can sleep!\n",
            "I can bark! Woof woof!!\n"
          ]
        }
      ]
    },
    {
      "cell_type": "code",
      "source": [
        "class Computer:\n",
        "    def __init__(self):\n",
        "        self.__maxprice = 900   #for encapsulation taaki bahar koi info na jaye so add _ in front of it #_maxprice is pvt func\n",
        "    def sell(self):\n",
        "        print(\"Selling Price: \",self.__maxprice)\n",
        "    def setMaxPrice(self, price):\n",
        "        self.__maxprice = price\n",
        "\n",
        "c = Computer()\n",
        "c.sell()\n",
        "# using setter function\n",
        "c.setMaxPrice(1000)\n",
        "c.sell()"
      ],
      "metadata": {
        "colab": {
          "base_uri": "https://localhost:8080/"
        },
        "id": "I2nPl-mo6iCT",
        "outputId": "2c7d8d90-8238-4a2f-dd02-951cac7cfa3e"
      },
      "execution_count": null,
      "outputs": [
        {
          "output_type": "stream",
          "name": "stdout",
          "text": [
            "Selling Price:  900\n",
            "Selling Price:  900\n",
            "Selling Price:  1000\n"
          ]
        }
      ]
    },
    {
      "cell_type": "code",
      "source": [
        "class Polygon:\n",
        "    # method to render a shape\n",
        "    def render(self):\n",
        "        print(\"Rendering Polygon...\")\n",
        "\n",
        "class Square(Polygon):   #inheriting polygon\n",
        "    # renders Square\n",
        "    def render(self):\n",
        "        print(\"Rendering Square...\")\n",
        "\n",
        "class Circle(Polygon):   #inheriting polygon\n",
        "    # renders circle\n",
        "    def render(self):\n",
        "        print(\"Rendering Circle...\")\n",
        "\n",
        "# create an object of Square\n",
        "s1 = Square()\n",
        "s1.render()\n",
        "\n",
        "# create an object of Circle\n",
        "c1 = Circle()\n",
        "c1.render()"
      ],
      "metadata": {
        "colab": {
          "base_uri": "https://localhost:8080/"
        },
        "id": "eWuk0LSh7cE8",
        "outputId": "80052a9d-ed4e-429e-8ac7-cc736eb57f62"
      },
      "execution_count": null,
      "outputs": [
        {
          "output_type": "stream",
          "name": "stdout",
          "text": [
            "Rendering Square...\n",
            "Rendering Circle...\n"
          ]
        }
      ]
    }
  ]
}